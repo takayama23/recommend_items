{
 "cells": [
  {
   "cell_type": "code",
   "execution_count": 9,
   "metadata": {
    "collapsed": true
   },
   "outputs": [],
   "source": [
    "%run base"
   ]
  },
  {
   "cell_type": "code",
   "execution_count": 10,
   "metadata": {
    "collapsed": true
   },
   "outputs": [],
   "source": [
    "# レコメンドタイプ2（売上ランキング）\n",
    "# レコメンド商品数の設定\n",
    "limit = app.config['LIMIT']\n",
    "\n",
    "# SQLファイルの指定\n",
    "sql_file = './app/static/sql/recommend_sql/most_sale_items.sql'"
   ]
  },
  {
   "cell_type": "markdown",
   "metadata": {},
   "source": [
    "#　売上ランキング用SQL\n",
    "```\n",
    "SELECT\n",
    "     item_code\n",
    "    ,SUM(orders) AS orders\n",
    "FROM\n",
    "\torder_histories\n",
    "GROUP BY\n",
    "\titem_code\n",
    "ORDER BY\n",
    "\torders DESC\n",
    "LIMIT {}\n",
    "```"
   ]
  },
  {
   "cell_type": "code",
   "execution_count": 11,
   "metadata": {
    "collapsed": true
   },
   "outputs": [],
   "source": [
    "# SQLファイルの読込とSQL実行\n",
    "with codecs.open(sql_file, 'r', 'utf-8') as f:\n",
    "        sql = f.read()\n",
    "        sql = sql.format(limit)\n",
    "        df = pd_sql_to_df(sql)"
   ]
  },
  {
   "cell_type": "code",
   "execution_count": 16,
   "metadata": {
    "collapsed": true
   },
   "outputs": [],
   "source": [
    "recommend_items = []\n",
    "for row in df.itertuples():\n",
    "    item_code = int(row[1])\n",
    "    recommend_items.append(item_code)"
   ]
  },
  {
   "cell_type": "code",
   "execution_count": 17,
   "metadata": {
    "collapsed": false
   },
   "outputs": [
    {
     "data": {
      "text/plain": [
       "[898, 570, 661, 621, 91]"
      ]
     },
     "execution_count": 17,
     "metadata": {},
     "output_type": "execute_result"
    }
   ],
   "source": [
    "recommend_items"
   ]
  },
  {
   "cell_type": "code",
   "execution_count": null,
   "metadata": {
    "collapsed": true
   },
   "outputs": [],
   "source": []
  }
 ],
 "metadata": {
  "kernelspec": {
   "display_name": "Python [default]",
   "language": "python",
   "name": "python3"
  },
  "language_info": {
   "codemirror_mode": {
    "name": "ipython",
    "version": 3
   },
   "file_extension": ".py",
   "mimetype": "text/x-python",
   "name": "python",
   "nbconvert_exporter": "python",
   "pygments_lexer": "ipython3",
   "version": "3.5.2"
  }
 },
 "nbformat": 4,
 "nbformat_minor": 1
}
