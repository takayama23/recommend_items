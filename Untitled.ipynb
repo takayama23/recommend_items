{
 "cells": [
  {
   "cell_type": "code",
   "execution_count": 13,
   "metadata": {
    "collapsed": true
   },
   "outputs": [],
   "source": [
    "%run base"
   ]
  },
  {
   "cell_type": "code",
   "execution_count": 14,
   "metadata": {
    "collapsed": false
   },
   "outputs": [],
   "source": [
    "sql_file = './app/static/sql/output_sql/user_actions.sql'"
   ]
  },
  {
   "cell_type": "code",
   "execution_count": 15,
   "metadata": {
    "collapsed": true
   },
   "outputs": [],
   "source": [
    "with codecs.open(sql_file, 'r', 'utf-8') as f:\n",
    "    sql = f.read()"
   ]
  },
  {
   "cell_type": "code",
   "execution_count": 16,
   "metadata": {
    "collapsed": false
   },
   "outputs": [
    {
     "data": {
      "text/plain": [
       "'SELECT\\r\\n     id\\r\\n    ,user_id\\r\\n    ,item_code\\r\\n    ,action_code\\r\\n    ,timestamp\\r\\nFROM\\r\\n    public.user_actions\\r\\nLIMIT 10\\r\\n'"
      ]
     },
     "execution_count": 16,
     "metadata": {},
     "output_type": "execute_result"
    }
   ],
   "source": [
    "sql"
   ]
  },
  {
   "cell_type": "code",
   "execution_count": 17,
   "metadata": {
    "collapsed": true
   },
   "outputs": [],
   "source": [
    "df = pd_sql_to_df(sql)"
   ]
  },
  {
   "cell_type": "code",
   "execution_count": 18,
   "metadata": {
    "collapsed": false
   },
   "outputs": [
    {
     "data": {
      "text/html": [
       "<div>\n",
       "<table border=\"1\" class=\"dataframe\">\n",
       "  <thead>\n",
       "    <tr style=\"text-align: right;\">\n",
       "      <th></th>\n",
       "      <th>id</th>\n",
       "      <th>user_id</th>\n",
       "      <th>item_code</th>\n",
       "      <th>action_code</th>\n",
       "      <th>timestamp</th>\n",
       "    </tr>\n",
       "  </thead>\n",
       "  <tbody>\n",
       "    <tr>\n",
       "      <th>0</th>\n",
       "      <td>1</td>\n",
       "      <td>381</td>\n",
       "      <td>854</td>\n",
       "      <td>1</td>\n",
       "      <td>2018-10-16 23:55:04.672367</td>\n",
       "    </tr>\n",
       "    <tr>\n",
       "      <th>1</th>\n",
       "      <td>2</td>\n",
       "      <td>466</td>\n",
       "      <td>117</td>\n",
       "      <td>1</td>\n",
       "      <td>2018-10-16 23:55:04.672367</td>\n",
       "    </tr>\n",
       "    <tr>\n",
       "      <th>2</th>\n",
       "      <td>3</td>\n",
       "      <td>428</td>\n",
       "      <td>29</td>\n",
       "      <td>1</td>\n",
       "      <td>2018-10-16 23:55:04.672367</td>\n",
       "    </tr>\n",
       "    <tr>\n",
       "      <th>3</th>\n",
       "      <td>4</td>\n",
       "      <td>495</td>\n",
       "      <td>672</td>\n",
       "      <td>1</td>\n",
       "      <td>2018-10-16 23:55:04.672367</td>\n",
       "    </tr>\n",
       "    <tr>\n",
       "      <th>4</th>\n",
       "      <td>5</td>\n",
       "      <td>182</td>\n",
       "      <td>86</td>\n",
       "      <td>1</td>\n",
       "      <td>2018-10-16 23:55:04.672367</td>\n",
       "    </tr>\n",
       "  </tbody>\n",
       "</table>\n",
       "</div>"
      ],
      "text/plain": [
       "   id  user_id  item_code action_code                  timestamp\n",
       "0   1      381        854           1 2018-10-16 23:55:04.672367\n",
       "1   2      466        117           1 2018-10-16 23:55:04.672367\n",
       "2   3      428         29           1 2018-10-16 23:55:04.672367\n",
       "3   4      495        672           1 2018-10-16 23:55:04.672367\n",
       "4   5      182         86           1 2018-10-16 23:55:04.672367"
      ]
     },
     "execution_count": 18,
     "metadata": {},
     "output_type": "execute_result"
    }
   ],
   "source": [
    "df.head()"
   ]
  },
  {
   "cell_type": "code",
   "execution_count": 19,
   "metadata": {
    "collapsed": true
   },
   "outputs": [],
   "source": [
    "path = './app/static/json/output.json'"
   ]
  },
  {
   "cell_type": "code",
   "execution_count": 20,
   "metadata": {
    "collapsed": true
   },
   "outputs": [],
   "source": [
    "v = df.to_json()"
   ]
  },
  {
   "cell_type": "code",
   "execution_count": 21,
   "metadata": {
    "collapsed": false
   },
   "outputs": [
    {
     "data": {
      "text/plain": [
       "'{\"id\":{\"0\":1,\"1\":2,\"2\":3,\"3\":4,\"4\":5,\"5\":6,\"6\":7,\"7\":8,\"8\":9,\"9\":10},\"user_id\":{\"0\":381,\"1\":466,\"2\":428,\"3\":495,\"4\":182,\"5\":148,\"6\":209,\"7\":119,\"8\":160,\"9\":296},\"item_code\":{\"0\":854,\"1\":117,\"2\":29,\"3\":672,\"4\":86,\"5\":410,\"6\":24,\"7\":408,\"8\":313,\"9\":44},\"action_code\":{\"0\":\"1\",\"1\":\"1\",\"2\":\"1\",\"3\":\"1\",\"4\":\"1\",\"5\":\"1\",\"6\":\"1\",\"7\":\"1\",\"8\":\"1\",\"9\":\"1\"},\"timestamp\":{\"0\":1539734104672,\"1\":1539734104672,\"2\":1539734104672,\"3\":1539734104672,\"4\":1539734104672,\"5\":1539734104687,\"6\":1539734104687,\"7\":1539734104687,\"8\":1539734104687,\"9\":1539734104687}}'"
      ]
     },
     "execution_count": 21,
     "metadata": {},
     "output_type": "execute_result"
    }
   ],
   "source": [
    "v"
   ]
  },
  {
   "cell_type": "code",
   "execution_count": null,
   "metadata": {
    "collapsed": true
   },
   "outputs": [],
   "source": []
  }
 ],
 "metadata": {
  "anaconda-cloud": {},
  "kernelspec": {
   "display_name": "Python [default]",
   "language": "python",
   "name": "python3"
  },
  "language_info": {
   "codemirror_mode": {
    "name": "ipython",
    "version": 3
   },
   "file_extension": ".py",
   "mimetype": "text/x-python",
   "name": "python",
   "nbconvert_exporter": "python",
   "pygments_lexer": "ipython3",
   "version": "3.5.2"
  }
 },
 "nbformat": 4,
 "nbformat_minor": 1
}
