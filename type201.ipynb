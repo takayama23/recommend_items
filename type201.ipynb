{
 "cells": [
  {
   "cell_type": "code",
   "execution_count": 29,
   "metadata": {
    "collapsed": true
   },
   "outputs": [],
   "source": [
    "%run base"
   ]
  },
  {
   "cell_type": "code",
   "execution_count": 30,
   "metadata": {
    "collapsed": false
   },
   "outputs": [],
   "source": [
    "# レコメンドタイプ5（類似商品１）, レコメンドタイプ6（類似商品２）\n",
    "# 引数の設定\n",
    "target_item_code=11\n",
    "ref_users=1\n",
    "\n",
    "# ログインユーザーID\n",
    "target_user_id = 1\n",
    "\n",
    "# レコメンド商品数の設定\n",
    "limit = app.config['LIMIT']\n",
    "\n",
    "# SQLファイルの指定\n",
    "sql_file = './app/static/sql/recommend_sql/who_watch_this_item_watch_which_items.sql'"
   ]
  },
  {
   "cell_type": "markdown",
   "metadata": {},
   "source": [
    "＃ 対象商品をよく閲覧しているユーザー抽出SQL（閲覧履歴）\n",
    "```\n",
    "SELECT\n",
    "     user_id\n",
    "    ,count(1) as watch_count\n",
    "FROM\n",
    "    user_actions\n",
    "WHERE\n",
    "    action_code = '1'\n",
    "{}\n",
    "GROUP BY\n",
    "    user_id\n",
    "ORDER BY\n",
    "    watch_count DESC\n",
    "LIMIT {}\n",
    "```"
   ]
  },
  {
   "cell_type": "code",
   "execution_count": 31,
   "metadata": {
    "collapsed": true
   },
   "outputs": [],
   "source": [
    "# 条件分作成\n",
    "target_item_select = ' AND item_code = ' + str(target_item_code)"
   ]
  },
  {
   "cell_type": "code",
   "execution_count": 32,
   "metadata": {
    "collapsed": false
   },
   "outputs": [],
   "source": [
    "# SQLファイルの読込とSQL実行\n",
    "with codecs.open(sql_file, 'r', 'utf-8') as f:\n",
    "    sql = f.read()\n",
    "    sql = sql.format(target_item_select, ref_users)\n",
    "    df = pd_sql_to_df(sql)"
   ]
  },
  {
   "cell_type": "code",
   "execution_count": 33,
   "metadata": {
    "collapsed": true
   },
   "outputs": [],
   "source": [
    "# 取得したユーザーIDを取得しリスト化する\n",
    "ref_user_ids = []\n",
    "for row in df.itertuples():\n",
    "    ref_user_ids.append(row[1])"
   ]
  },
  {
   "cell_type": "code",
   "execution_count": 34,
   "metadata": {
    "collapsed": false
   },
   "outputs": [],
   "source": [
    "# ログインユーザーの取得\n",
    "#target_user_id = 0 if current_user.get_id() is None else current_user.get_id()"
   ]
  },
  {
   "cell_type": "code",
   "execution_count": 35,
   "metadata": {
    "collapsed": true
   },
   "outputs": [],
   "source": [
    "# 参考ユーザーの購入商品から対象ユーザーの購入商品を引く\n",
    "recommend_items = select_items(ref_user_ids, target_user_id)"
   ]
  },
  {
   "cell_type": "code",
   "execution_count": 36,
   "metadata": {
    "collapsed": true
   },
   "outputs": [],
   "source": [
    "# 5商品を抽出する\n",
    "recommend_items = recommend_items[0:limit]"
   ]
  },
  {
   "cell_type": "code",
   "execution_count": 37,
   "metadata": {
    "collapsed": false
   },
   "outputs": [
    {
     "data": {
      "text/plain": [
       "[64, 355, 621, 83, 483]"
      ]
     },
     "execution_count": 37,
     "metadata": {},
     "output_type": "execute_result"
    }
   ],
   "source": [
    "recommend_items"
   ]
  },
  {
   "cell_type": "code",
   "execution_count": null,
   "metadata": {
    "collapsed": true
   },
   "outputs": [],
   "source": []
  }
 ],
 "metadata": {
  "kernelspec": {
   "display_name": "Python [default]",
   "language": "python",
   "name": "python3"
  },
  "language_info": {
   "codemirror_mode": {
    "name": "ipython",
    "version": 3
   },
   "file_extension": ".py",
   "mimetype": "text/x-python",
   "name": "python",
   "nbconvert_exporter": "python",
   "pygments_lexer": "ipython3",
   "version": "3.5.2"
  }
 },
 "nbformat": 4,
 "nbformat_minor": 1
}
