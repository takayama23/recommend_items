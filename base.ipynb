{
 "cells": [
  {
   "cell_type": "code",
   "execution_count": 7,
   "metadata": {
    "collapsed": false
   },
   "outputs": [],
   "source": [
    "import codecs\n",
    "import random\n",
    "import numpy as pd\n",
    "from flask_login import current_user\n",
    "from app import app, db\n",
    "from app.models import Evaluation, Favorite, Item, OrderHistory, RecommendType, User\n",
    "from app.functions import pd_sql_to_df"
   ]
  },
  {
   "cell_type": "code",
   "execution_count": 8,
   "metadata": {
    "collapsed": true
   },
   "outputs": [],
   "source": [
    "# 参考ユーザーの購買商品（和集合）から対象ユーザーの購買商品を引く（差集合）\n",
    "def select_items(ref_user_ids, target_user_id):\n",
    "    sql_file = 'recommend_items/app/static/sql/recommend_sql/select_items.sql'\n",
    "\n",
    "    # 条件文作成\n",
    "    ref_user_select = 'WHERE a.user_id IN ('\n",
    "    for ref_user_id in ref_user_ids:\n",
    "        ref_user_select = ref_user_select + str(ref_user_id) + ','\n",
    "\n",
    "    ref_user_select = ref_user_select[:-1] + ')'\n",
    "    target_user_select = 'WHERE b.user_id = ' + str(target_user_id)\n",
    "\n",
    "    with codecs.open(sql_file, 'r', 'utf-8') as f:\n",
    "        sql = f.read()\n",
    "        sql = sql.format(ref_user_select, target_user_select)\n",
    "        df = pd_sql_to_df(sql)\n",
    "\n",
    "    item_codes = []\n",
    "    for row in df.itertuples():\n",
    "        item_codes.append(row[1])\n",
    "\n",
    "    return item_codes"
   ]
  },
  {
   "cell_type": "code",
   "execution_count": null,
   "metadata": {
    "collapsed": true
   },
   "outputs": [],
   "source": []
  }
 ],
 "metadata": {
  "anaconda-cloud": {},
  "kernelspec": {
   "display_name": "Python [default]",
   "language": "python",
   "name": "python3"
  },
  "language_info": {
   "codemirror_mode": {
    "name": "ipython",
    "version": 3
   },
   "file_extension": ".py",
   "mimetype": "text/x-python",
   "name": "python",
   "nbconvert_exporter": "python",
   "pygments_lexer": "ipython3",
   "version": "3.5.2"
  }
 },
 "nbformat": 4,
 "nbformat_minor": 1
}
