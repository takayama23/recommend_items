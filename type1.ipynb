{
 "cells": [
  {
   "cell_type": "code",
   "execution_count": 32,
   "metadata": {
    "collapsed": true
   },
   "outputs": [],
   "source": [
    "%run base"
   ]
  },
  {
   "cell_type": "code",
   "execution_count": 33,
   "metadata": {
    "collapsed": false
   },
   "outputs": [],
   "source": [
    "# レコメンドタイプ１/７（みんな/ユーザーがよく閲覧している商品）\n",
    "# 引数の設定\n",
    "user_id=None\n",
    "\n",
    "# レコメンド商品数の設定\n",
    "limit = app.config['LIMIT']\n",
    "\n",
    "# SQLファイルの指定\n",
    "sql_file = './app/static/sql/recommend_sql/most_watch_items.sql'"
   ]
  },
  {
   "cell_type": "markdown",
   "metadata": {},
   "source": [
    "#　閲覧ランキング用SQL\n",
    "```\n",
    "SELECT\n",
    "     item_code\n",
    "    ,COUNT(1) AS COUNTS\n",
    "FROM\n",
    "    user_actions\n",
    "WHERE\n",
    "    action_code = '1'\n",
    "{}\n",
    "GROUP BY\n",
    "    item_code\n",
    "ORDER BY\n",
    "    COUNTS DESC\n",
    "LIMIT {}\n",
    "```"
   ]
  },
  {
   "cell_type": "code",
   "execution_count": 34,
   "metadata": {
    "collapsed": false
   },
   "outputs": [],
   "source": [
    "# SQLファイルの読込とSQL実行\n",
    "with codecs.open(sql_file, 'r', 'utf-8') as f:\n",
    "    sql = f.read()\n",
    "\n",
    "    # user_idが指定されていない場合は全ユーザー、指定されている場合はそのユーザーを条件にする\n",
    "    if user_id is None:\n",
    "        user_select = ''\n",
    "    else:\n",
    "        user_select = 'AND user_id = ' + str(user_id)\n",
    "\n",
    "    sql = sql.format(user_select, limit)\n",
    "    df = pd_sql_to_df(sql)"
   ]
  },
  {
   "cell_type": "code",
   "execution_count": 35,
   "metadata": {
    "collapsed": true
   },
   "outputs": [],
   "source": [
    "# 取得した商品コードを取得しリスト化する\n",
    "recommend_items = []\n",
    "for row in df.itertuples():\n",
    "    item_code = int(row[1])\n",
    "\n",
    "    recommend_items.append(item_code)"
   ]
  },
  {
   "cell_type": "code",
   "execution_count": 36,
   "metadata": {
    "collapsed": false
   },
   "outputs": [
    {
     "data": {
      "text/plain": [
       "[614, 24, 550, 64, 1]"
      ]
     },
     "execution_count": 36,
     "metadata": {},
     "output_type": "execute_result"
    }
   ],
   "source": [
    "recommend_items"
   ]
  }
 ],
 "metadata": {
  "anaconda-cloud": {},
  "kernelspec": {
   "display_name": "Python [default]",
   "language": "python",
   "name": "python3"
  },
  "language_info": {
   "codemirror_mode": {
    "name": "ipython",
    "version": 3
   },
   "file_extension": ".py",
   "mimetype": "text/x-python",
   "name": "python",
   "nbconvert_exporter": "python",
   "pygments_lexer": "ipython3",
   "version": "3.5.2"
  }
 },
 "nbformat": 4,
 "nbformat_minor": 1
}
