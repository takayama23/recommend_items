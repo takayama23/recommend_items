{
 "cells": [
  {
   "cell_type": "code",
   "execution_count": 27,
   "metadata": {
    "collapsed": false
   },
   "outputs": [],
   "source": [
    "%run base"
   ]
  },
  {
   "cell_type": "code",
   "execution_count": 28,
   "metadata": {
    "collapsed": false
   },
   "outputs": [
    {
     "data": {
      "text/plain": [
       "5"
      ]
     },
     "execution_count": 28,
     "metadata": {},
     "output_type": "execute_result"
    }
   ],
   "source": [
    "user_id = None\n",
    "\n",
    "# レコメンド商品数の設定\n",
    "limit = app.config['LIMIT']\n",
    "limit"
   ]
  },
  {
   "cell_type": "code",
   "execution_count": 29,
   "metadata": {
    "collapsed": true
   },
   "outputs": [],
   "source": [
    "sql_file = './app/static/sql/recommend_sql/most_watch_items.sql'"
   ]
  },
  {
   "cell_type": "markdown",
   "metadata": {},
   "source": [
    "### ■ 閲覧ランキング用SQL\n",
    "```\n",
    "SELECT\n",
    "     item_code\n",
    "    ,COUNT(1) AS COUNTS\n",
    "FROM\n",
    "    user_actions\n",
    "WHERE\n",
    "    action_code = '1'\n",
    "{}\n",
    "GROUP BY\n",
    "    item_code\n",
    "ORDER BY\n",
    "    COUNTS DESC\n",
    "LIMIT {}\n",
    "```"
   ]
  },
  {
   "cell_type": "code",
   "execution_count": 32,
   "metadata": {
    "collapsed": false
   },
   "outputs": [
    {
     "name": "stdout",
     "output_type": "stream",
     "text": [
      "10 loops, best of 3: 179 ms per loop\n"
     ]
    }
   ],
   "source": [
    "%%timeit\n",
    "# SQLファイルの読込とSQL実行\n",
    "with codecs.open(sql_file, 'r', 'utf-8') as f:\n",
    "    sql = f.read()\n",
    "\n",
    "    # user_idが指定されていない場合は全ユーザー、指定されている場合はそのユーザーを条件にする\n",
    "    if user_id is None:\n",
    "        user_select = ''\n",
    "    else:\n",
    "        user_select = 'AND user_id = ' + str(user_id)\n",
    "\n",
    "    sql = sql.format(user_select, limit)\n",
    "    df = pd_sql_to_df(sql)"
   ]
  },
  {
   "cell_type": "code",
   "execution_count": 31,
   "metadata": {
    "collapsed": false
   },
   "outputs": [
    {
     "data": {
      "text/html": [
       "<div>\n",
       "<table border=\"1\" class=\"dataframe\">\n",
       "  <thead>\n",
       "    <tr style=\"text-align: right;\">\n",
       "      <th></th>\n",
       "      <th>item_code</th>\n",
       "      <th>counts</th>\n",
       "    </tr>\n",
       "  </thead>\n",
       "  <tbody>\n",
       "    <tr>\n",
       "      <th>0</th>\n",
       "      <td>24</td>\n",
       "      <td>2033</td>\n",
       "    </tr>\n",
       "    <tr>\n",
       "      <th>1</th>\n",
       "      <td>614</td>\n",
       "      <td>2032</td>\n",
       "    </tr>\n",
       "    <tr>\n",
       "      <th>2</th>\n",
       "      <td>550</td>\n",
       "      <td>2020</td>\n",
       "    </tr>\n",
       "    <tr>\n",
       "      <th>3</th>\n",
       "      <td>64</td>\n",
       "      <td>2015</td>\n",
       "    </tr>\n",
       "    <tr>\n",
       "      <th>4</th>\n",
       "      <td>534</td>\n",
       "      <td>1999</td>\n",
       "    </tr>\n",
       "  </tbody>\n",
       "</table>\n",
       "</div>"
      ],
      "text/plain": [
       "   item_code  counts\n",
       "0         24    2033\n",
       "1        614    2032\n",
       "2        550    2020\n",
       "3         64    2015\n",
       "4        534    1999"
      ]
     },
     "execution_count": 31,
     "metadata": {},
     "output_type": "execute_result"
    }
   ],
   "source": [
    "df"
   ]
  },
  {
   "cell_type": "code",
   "execution_count": 33,
   "metadata": {
    "collapsed": true
   },
   "outputs": [],
   "source": [
    "# 取得した商品コードで商品テーブルを参照して商品情報を取得しリスト化する\n",
    "recommend_items = []\n",
    "for row in df.itertuples():\n",
    "    item_code = int(row[1])\n",
    "    #item = Item.query.filter_by(item_code=item_code).first()\n",
    "    recommend_items.append(item_code)\n",
    "\n",
    "#return recommend_items"
   ]
  },
  {
   "cell_type": "code",
   "execution_count": 34,
   "metadata": {
    "collapsed": false
   },
   "outputs": [
    {
     "data": {
      "text/plain": [
       "[24, 614, 550, 64, 534]"
      ]
     },
     "execution_count": 34,
     "metadata": {},
     "output_type": "execute_result"
    }
   ],
   "source": [
    "recommend_items"
   ]
  },
  {
   "cell_type": "code",
   "execution_count": null,
   "metadata": {
    "collapsed": true
   },
   "outputs": [],
   "source": []
  }
 ],
 "metadata": {
  "anaconda-cloud": {},
  "kernelspec": {
   "display_name": "Python [default]",
   "language": "python",
   "name": "python3"
  },
  "language_info": {
   "codemirror_mode": {
    "name": "ipython",
    "version": 3
   },
   "file_extension": ".py",
   "mimetype": "text/x-python",
   "name": "python",
   "nbconvert_exporter": "python",
   "pygments_lexer": "ipython3",
   "version": "3.5.2"
  }
 },
 "nbformat": 4,
 "nbformat_minor": 1
}
